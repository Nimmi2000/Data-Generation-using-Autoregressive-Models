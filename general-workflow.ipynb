{
 "cells": [
  {
   "cell_type": "markdown",
   "metadata": {},
   "source": [
    "Loading Libraries"
   ]
  },
  {
   "cell_type": "code",
   "execution_count": 8,
   "metadata": {},
   "outputs": [
    {
     "name": "stdout",
     "output_type": "stream",
     "text": [
      "Using device cuda:0\n"
     ]
    }
   ],
   "source": [
    "import numpy as np\n",
    "import matplotlib.pyplot as plt\n",
    "from matplotlib.colors import to_rgb\n",
    "from tqdm.notebook import tqdm\n",
    "\n",
    "#torch imports\n",
    "import torch\n",
    "import torch.nn as nn\n",
    "import torch.nn.functional as F\n",
    "import torch.utils.data as data\n",
    "import torch.optim as optim\n",
    "\n",
    "# torchvision\n",
    "import torchvision\n",
    "from torchvision.datasets import MNIST\n",
    "from torchvision import transforms\n",
    "\n",
    "# To ensure calculations are deterministic\n",
    "torch.backends.cudnn.deterministic = True\n",
    "\n",
    "# Setting device\n",
    "device = torch.device(\"cpu\") if not torch.cuda.is_available() else torch.device(\"cuda:0\")\n",
    "print(\"Using device\", device)\n",
    "\n",
    "#importing support files\n",
    "from mnist_loader import MnistDataloader"
   ]
  },
  {
   "cell_type": "markdown",
   "metadata": {},
   "source": [
    "Loading and processing the dataset"
   ]
  },
  {
   "cell_type": "code",
   "execution_count": 10,
   "metadata": {},
   "outputs": [],
   "source": [
    "#Defining paths\n",
    "training_images_filepath = r\"data\\train-images-idx3-ubyte\\train-images-idx3-ubyte\"\n",
    "training_labels_filepath = r\"data\\train-labels-idx1-ubyte\\train-labels-idx1-ubyte\"\n",
    "test_images_filepath = r\"data\\t10k-images-idx3-ubyte\\t10k-images-idx3-ubyte\"\n",
    "test_labels_filepath = r\"data\\t10k-labels-idx1-ubyte\\t10k-labels-idx1-ubyte\"\n",
    "\n",
    "# Importing dataset\n",
    "mnist_dataloader = MnistDataloader(training_images_filepath, training_labels_filepath, test_images_filepath, test_labels_filepath)\n",
    "\n",
    "(x_train, y_train), (x_test, y_test) = mnist_dataloader.load_data()"
   ]
  },
  {
   "cell_type": "code",
   "execution_count": 34,
   "metadata": {},
   "outputs": [],
   "source": [
    "train_dataset = []\n",
    "test_dataset = []\n",
    "\n",
    "for data, label in zip(x_train,y_train):\n",
    "    train_dataset.append((np.array(data),label))\n",
    "    \n",
    "for data, label in zip(x_test,y_test):\n",
    "    test_dataset.append((np.array(data),label))"
   ]
  },
  {
   "cell_type": "code",
   "execution_count": 43,
   "metadata": {},
   "outputs": [
    {
     "data": {
      "image/png": "[encoded data removed]",
      "text/plain": [
       "<Figure size 800x1000 with 12 Axes>"
      ]
     },
     "metadata": {},
     "output_type": "display_data"
    }
   ],
   "source": [
    "#Visualizing the dataset\n",
    "\n",
    "row = 3\n",
    "column = 4\n",
    "\n",
    "plt.figure(figsize=(8, 10))\n",
    "\n",
    "for i in range(12):\n",
    "    plt.subplot(column, row, i+1)\n",
    "    plt.imshow(train_dataset[i][0], cmap='gray')\n",
    "    plt.title(str(train_dataset[i][1]))\n",
    "    plt.axis('off')"
   ]
  }
 ],
 "metadata": {
  "kernelspec": {
   "display_name": "dlenv",
   "language": "python",
   "name": "python3"
  },
  "language_info": {
   "codemirror_mode": {
    "name": "ipython",
    "version": 3
   },
   "file_extension": ".py",
   "mimetype": "text/x-python",
   "name": "python",
   "nbconvert_exporter": "python",
   "pygments_lexer": "ipython3",
   "version": "3.10.16"
  }
 },
 "nbformat": 4,
 "nbformat_minor": 2
}
